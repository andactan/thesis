{
 "cells": [
  {
   "cell_type": "code",
   "execution_count": 1,
   "metadata": {},
   "outputs": [],
   "source": [
    "import os\n",
    "import argparse\n",
    "import torch\n",
    "import torch.nn as nn\n",
    "import torch.nn.functional as F\n",
    "import torch.optim as optim\n",
    "import torchvision\n",
    "from torch.optim.lr_scheduler import StepLR\n"
   ]
  },
  {
   "cell_type": "code",
   "execution_count": 8,
   "metadata": {},
   "outputs": [],
   "source": [
    "# Hyperparameters\n",
    "n_epochs = 2\n",
    "batch_size_train = 64\n",
    "batch_size_test = 1000\n",
    "learning_rate = 0.01\n",
    "momentum = 0.5\n",
    "log_interval = 10\n",
    "\n",
    "random_seed = 1\n",
    "torch.backends.cudnn.enabled = False\n",
    "torch.manual_seed(random_seed)\n",
    "\n",
    "# Device configuration\n",
    "device = torch.device('cuda' if torch.cuda.is_available() else 'cpu')\n",
    "\n",
    "sequence_length = 28\n",
    "input_size = 28\n",
    "hidden_size = 128\n",
    "num_layers = 2\n",
    "num_classes = 10\n",
    "batch_size = 100\n",
    "num_epochs = 2\n",
    "learning_rate = 0.01\n",
    "\n",
    "os.makedirs('files',exist_ok=True)\n",
    "train_loader = torch.utils.data.DataLoader(\n",
    "  torchvision.datasets.MNIST('files/', train=True, download=True,\n",
    "                             transform=torchvision.transforms.Compose([\n",
    "                               torchvision.transforms.ToTensor(),\n",
    "                               torchvision.transforms.Normalize(\n",
    "                                 (0.1307,), (0.3081,))\n",
    "                             ])),\n",
    "  batch_size=batch_size_train, shuffle=True)\n",
    "\n",
    "test_loader = torch.utils.data.DataLoader(\n",
    "  torchvision.datasets.MNIST('files/', train=False, download=False,\n",
    "                             transform=torchvision.transforms.Compose([\n",
    "                               torchvision.transforms.ToTensor(),\n",
    "                               torchvision.transforms.Normalize(\n",
    "                                 (0.1307,), (0.3081,))\n",
    "                             ])),\n",
    "  batch_size=batch_size_test, shuffle=True)"
   ]
  },
  {
   "cell_type": "code",
   "execution_count": 9,
   "metadata": {},
   "outputs": [],
   "source": [
    "# Recurrent neural network (many-to-one)\n",
    "class Net(nn.Module):\n",
    "    def __init__(self, input_size, hidden_size, num_layers, num_classes):\n",
    "        super(Net, self).__init__()\n",
    "        self.hidden_size = hidden_size\n",
    "        self.num_layers = num_layers\n",
    "        self.lstm = nn.LSTM(input_size, hidden_size, num_layers, batch_first=True)\n",
    "        self.fc = nn.Linear(hidden_size, num_classes)\n",
    "    \n",
    "    def forward(self, x):\n",
    "        # Set initial hidden and cell states \n",
    "        h0 = torch.zeros(self.num_layers, x.size(0), self.hidden_size).to(device) \n",
    "        c0 = torch.zeros(self.num_layers, x.size(0), self.hidden_size).to(device)\n",
    "        \n",
    "        # Forward propagate LSTM\n",
    "        out, _ = self.lstm(x, (h0, c0))  # out: tensor of shape (batch_size, seq_length, hidden_size)\n",
    "        \n",
    "        # Decode the hidden state of the last time step\n",
    "        out = self.fc(out[:, -1, :])\n",
    "        return out\n",
    "        \n",
    "\n",
    "# Instantiate the model with hyperparameters\n",
    "model = Net(input_size, hidden_size, num_layers, num_classes).to(device)\n",
    "traced_model = torch.jit.trace(model, torch.rand(3, 28, 28).to(device))\n",
    "# Loss and optimizer\n",
    "criterion = nn.CrossEntropyLoss()\n",
    "optimizer = torch.optim.AdamW(model.parameters(), lr=learning_rate)"
   ]
  },
  {
   "cell_type": "code",
   "execution_count": 10,
   "metadata": {},
   "outputs": [
    {
     "name": "stdout",
     "output_type": "stream",
     "text": [
      "Epoch [1/2], Step [100/938], Loss: 0.6650\n",
      "Epoch [1/2], Step [200/938], Loss: 0.3047\n",
      "Epoch [1/2], Step [300/938], Loss: 0.0894\n",
      "Epoch [1/2], Step [400/938], Loss: 0.4946\n",
      "Epoch [1/2], Step [500/938], Loss: 0.2050\n",
      "Epoch [1/2], Step [600/938], Loss: 0.3227\n",
      "Epoch [1/2], Step [700/938], Loss: 0.0832\n",
      "Epoch [1/2], Step [800/938], Loss: 0.0634\n",
      "Epoch [1/2], Step [900/938], Loss: 0.1024\n",
      "Epoch #1 took 45.64427042007446 sec(s)\n",
      "Epoch [2/2], Step [100/938], Loss: 0.1422\n",
      "Epoch [2/2], Step [200/938], Loss: 0.1408\n",
      "Epoch [2/2], Step [300/938], Loss: 0.2437\n",
      "Epoch [2/2], Step [400/938], Loss: 0.3446\n",
      "Epoch [2/2], Step [500/938], Loss: 0.0675\n",
      "Epoch [2/2], Step [600/938], Loss: 0.0800\n",
      "Epoch [2/2], Step [700/938], Loss: 0.1066\n",
      "Epoch [2/2], Step [800/938], Loss: 0.1555\n",
      "Epoch [2/2], Step [900/938], Loss: 0.0688\n",
      "Epoch #2 took 46.03595018386841 sec(s)\n"
     ]
    }
   ],
   "source": [
    "import time\n",
    "\n",
    "\n",
    "scaler = torch.cuda.amp.GradScaler()\n",
    "# Train the model\n",
    "total_step = len(train_loader)\n",
    "for epoch in range(num_epochs):\n",
    "    start = time.time()\n",
    "    for i, (images, labels) in enumerate(train_loader):\n",
    "        images = images.reshape(-1, sequence_length, input_size).to(device)\n",
    "        labels = labels.to(device)\n",
    "        \n",
    "        optimizer.zero_grad(set_to_none=True)\n",
    "        # Forward pass\n",
    "        outputs = traced_model(images)\n",
    "        # Casts operations to mixed precision\n",
    "        # with torch.cuda.amp.autocast():\n",
    "        loss = criterion(outputs, labels)\n",
    "\n",
    "        # # Scales the loss, and calls backward()\n",
    "        # # to create scaled gradients\n",
    "        # scaler.scale(loss).backward()\n",
    "\n",
    "        # # Unscales gradients and calls\n",
    "        # # or skips optimizer.step()\n",
    "        # scaler.step(optimizer)\n",
    "\n",
    "        # # Updates the scale for next iteration\n",
    "        # scaler.update()\n",
    "        \n",
    "        # # Backward and optimize\n",
    "        \n",
    "        loss.backward()\n",
    "\n",
    "        # Gradient Norm Clipping\n",
    "        #nn.utils.clip_grad_norm_(model.parameters(), max_norm=2.0, norm_type=2)\n",
    "\n",
    "        # Gradient Value Clipping\n",
    "        nn.utils.clip_grad_value_(model.parameters(), clip_value=10)\n",
    "\n",
    "        optimizer.step()\n",
    "        \n",
    "        if (i+1) % 100 == 0:\n",
    "            print ('Epoch [{}/{}], Step [{}/{}], Loss: {:.4f}' \n",
    "                   .format(epoch+1, num_epochs, i+1, total_step, loss.item()))\n",
    "\n",
    "    end = time.time()\n",
    "    print(f'Epoch #{epoch + 1} took {end - start} sec(s)')"
   ]
  },
  {
   "cell_type": "code",
   "execution_count": 75,
   "metadata": {},
   "outputs": [],
   "source": [
    "class ConvNet(torch.nn.Module):\n",
    "    def __init__(self) -> None:\n",
    "        super().__init__()\n",
    "        self.conv = torch.nn.Conv2d(3, 10, 3)\n",
    "\n",
    "    def forward(self, x):\n",
    "        return torch.nn.ReLU(self.conv(x))"
   ]
  },
  {
   "cell_type": "code",
   "execution_count": 84,
   "metadata": {},
   "outputs": [],
   "source": [
    "n = torch.nn.ReLU()\n",
    "example_input = torch.rand(10, 3, 50, 50)\n",
    "traced = torch.jit.trace(n, example_input)\n"
   ]
  },
  {
   "cell_type": "code",
   "execution_count": 85,
   "metadata": {},
   "outputs": [],
   "source": [
    "import time\n",
    "\n",
    "\n",
    "def run_tests(model, input):\n",
    "    start = time.time()\n",
    "    for _ in range(int(1e4)):\n",
    "        model(input)\n",
    "    end = time.time()\n",
    "\n",
    "    print(end - start)"
   ]
  },
  {
   "cell_type": "code",
   "execution_count": 89,
   "metadata": {},
   "outputs": [
    {
     "name": "stdout",
     "output_type": "stream",
     "text": [
      "0.16025280952453613\n"
     ]
    }
   ],
   "source": [
    "run_tests(traced, example_input)"
   ]
  },
  {
   "cell_type": "code",
   "execution_count": null,
   "metadata": {},
   "outputs": [],
   "source": []
  }
 ],
 "metadata": {
  "kernelspec": {
   "display_name": "Python 3.8.10 64-bit",
   "language": "python",
   "name": "python3"
  },
  "language_info": {
   "codemirror_mode": {
    "name": "ipython",
    "version": 3
   },
   "file_extension": ".py",
   "mimetype": "text/x-python",
   "name": "python",
   "nbconvert_exporter": "python",
   "pygments_lexer": "ipython3",
   "version": "2.7.17"
  },
  "orig_nbformat": 4,
  "vscode": {
   "interpreter": {
    "hash": "767d51c1340bd893661ea55ea3124f6de3c7a262a8b4abca0554b478b1e2ff90"
   }
  }
 },
 "nbformat": 4,
 "nbformat_minor": 2
}
